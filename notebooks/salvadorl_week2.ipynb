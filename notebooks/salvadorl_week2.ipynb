{
  "nbformat": 4,
  "nbformat_minor": 0,
  "metadata": {
    "colab": {
      "provenance": []
    },
    "kernelspec": {
      "name": "python3",
      "display_name": "Python 3"
    },
    "language_info": {
      "name": "python"
    }
  },
  "cells": [
    {
      "cell_type": "markdown",
      "source": [
        "# Data Sources\n"
      ],
      "metadata": {
        "id": "n8d-GQOd63Q7"
      }
    },
    {
      "cell_type": "markdown",
      "source": [
        "## Objective\n",
        "- Determine a process of reading a data source"
      ],
      "metadata": {
        "id": "XQgQWcdIQolA"
      }
    },
    {
      "cell_type": "markdown",
      "source": [
        "## Hypothesis\n",
        "- Accesing a data source may not require security credentials and permissions"
      ],
      "metadata": {
        "id": "0yGp7k1uQ6Tl"
      }
    },
    {
      "cell_type": "markdown",
      "source": [
        "## Procedure"
      ],
      "metadata": {
        "id": "TSPIovTj89IF"
      }
    },
    {
      "cell_type": "code",
      "source": [
        "# Run this cell\n",
        "!pip install pyspark\n",
        "!pip install findspark"
      ],
      "metadata": {
        "id": "sXgDAJJI3wrS",
        "colab": {
          "base_uri": "https://localhost:8080/"
        },
        "outputId": "ddc9d769-33c6-4902-998e-538a68e1a713"
      },
      "execution_count": null,
      "outputs": [
        {
          "output_type": "stream",
          "name": "stdout",
          "text": [
            "Collecting pyspark\n",
            "  Downloading pyspark-3.5.2.tar.gz (317.3 MB)\n",
            "\u001b[2K     \u001b[90m━━━━━━━━━━━━━━━━━━━━━━━━━━━━━━━━━━━━━━━━\u001b[0m \u001b[32m317.3/317.3 MB\u001b[0m \u001b[31m4.1 MB/s\u001b[0m eta \u001b[36m0:00:00\u001b[0m\n",
            "\u001b[?25h  Preparing metadata (setup.py) ... \u001b[?25l\u001b[?25hdone\n",
            "Requirement already satisfied: py4j==0.10.9.7 in /usr/local/lib/python3.10/dist-packages (from pyspark) (0.10.9.7)\n",
            "Building wheels for collected packages: pyspark\n",
            "  Building wheel for pyspark (setup.py) ... \u001b[?25l\u001b[?25hdone\n",
            "  Created wheel for pyspark: filename=pyspark-3.5.2-py2.py3-none-any.whl size=317812365 sha256=2bdb70ac6c7fbf443fcb120310b0ffcab7ede9d9fee655882b39c1fae42cf9cc\n",
            "  Stored in directory: /root/.cache/pip/wheels/34/34/bd/03944534c44b677cd5859f248090daa9fb27b3c8f8e5f49574\n",
            "Successfully built pyspark\n",
            "Installing collected packages: pyspark\n",
            "Successfully installed pyspark-3.5.2\n",
            "Collecting findspark\n",
            "  Downloading findspark-2.0.1-py2.py3-none-any.whl.metadata (352 bytes)\n",
            "Downloading findspark-2.0.1-py2.py3-none-any.whl (4.4 kB)\n",
            "Installing collected packages: findspark\n",
            "Successfully installed findspark-2.0.1\n"
          ]
        }
      ]
    },
    {
      "cell_type": "code",
      "source": [
        "# Run this cell\n",
        "!pip install awscli"
      ],
      "metadata": {
        "id": "aCWOsUEaDqg-",
        "colab": {
          "base_uri": "https://localhost:8080/"
        },
        "outputId": "009421cb-0578-4ef9-dbf2-e742961ec2a0"
      },
      "execution_count": null,
      "outputs": [
        {
          "output_type": "stream",
          "name": "stdout",
          "text": [
            "Collecting awscli\n",
            "  Downloading awscli-1.34.19-py3-none-any.whl.metadata (11 kB)\n",
            "Collecting botocore==1.35.19 (from awscli)\n",
            "  Downloading botocore-1.35.19-py3-none-any.whl.metadata (5.7 kB)\n",
            "Collecting docutils<0.17,>=0.10 (from awscli)\n",
            "  Downloading docutils-0.16-py2.py3-none-any.whl.metadata (2.7 kB)\n",
            "Collecting s3transfer<0.11.0,>=0.10.0 (from awscli)\n",
            "  Downloading s3transfer-0.10.2-py3-none-any.whl.metadata (1.7 kB)\n",
            "Requirement already satisfied: PyYAML<6.1,>=3.10 in /usr/local/lib/python3.10/dist-packages (from awscli) (6.0.2)\n",
            "Collecting colorama<0.4.7,>=0.2.5 (from awscli)\n",
            "  Downloading colorama-0.4.6-py2.py3-none-any.whl.metadata (17 kB)\n",
            "Collecting rsa<4.8,>=3.1.2 (from awscli)\n",
            "  Downloading rsa-4.7.2-py3-none-any.whl.metadata (3.6 kB)\n",
            "Collecting jmespath<2.0.0,>=0.7.1 (from botocore==1.35.19->awscli)\n",
            "  Downloading jmespath-1.0.1-py3-none-any.whl.metadata (7.6 kB)\n",
            "Requirement already satisfied: python-dateutil<3.0.0,>=2.1 in /usr/local/lib/python3.10/dist-packages (from botocore==1.35.19->awscli) (2.8.2)\n",
            "Requirement already satisfied: urllib3!=2.2.0,<3,>=1.25.4 in /usr/local/lib/python3.10/dist-packages (from botocore==1.35.19->awscli) (2.0.7)\n",
            "Requirement already satisfied: pyasn1>=0.1.3 in /usr/local/lib/python3.10/dist-packages (from rsa<4.8,>=3.1.2->awscli) (0.6.1)\n",
            "Requirement already satisfied: six>=1.5 in /usr/local/lib/python3.10/dist-packages (from python-dateutil<3.0.0,>=2.1->botocore==1.35.19->awscli) (1.16.0)\n",
            "Downloading awscli-1.34.19-py3-none-any.whl (4.5 MB)\n",
            "\u001b[2K   \u001b[90m━━━━━━━━━━━━━━━━━━━━━━━━━━━━━━━━━━━━━━━━\u001b[0m \u001b[32m4.5/4.5 MB\u001b[0m \u001b[31m16.5 MB/s\u001b[0m eta \u001b[36m0:00:00\u001b[0m\n",
            "\u001b[?25hDownloading botocore-1.35.19-py3-none-any.whl (12.5 MB)\n",
            "\u001b[2K   \u001b[90m━━━━━━━━━━━━━━━━━━━━━━━━━━━━━━━━━━━━━━━━\u001b[0m \u001b[32m12.5/12.5 MB\u001b[0m \u001b[31m62.3 MB/s\u001b[0m eta \u001b[36m0:00:00\u001b[0m\n",
            "\u001b[?25hDownloading colorama-0.4.6-py2.py3-none-any.whl (25 kB)\n",
            "Downloading docutils-0.16-py2.py3-none-any.whl (548 kB)\n",
            "\u001b[2K   \u001b[90m━━━━━━━━━━━━━━━━━━━━━━━━━━━━━━━━━━━━━━━━\u001b[0m \u001b[32m548.2/548.2 kB\u001b[0m \u001b[31m27.6 MB/s\u001b[0m eta \u001b[36m0:00:00\u001b[0m\n",
            "\u001b[?25hDownloading rsa-4.7.2-py3-none-any.whl (34 kB)\n",
            "Downloading s3transfer-0.10.2-py3-none-any.whl (82 kB)\n",
            "\u001b[2K   \u001b[90m━━━━━━━━━━━━━━━━━━━━━━━━━━━━━━━━━━━━━━━━\u001b[0m \u001b[32m82.7/82.7 kB\u001b[0m \u001b[31m5.0 MB/s\u001b[0m eta \u001b[36m0:00:00\u001b[0m\n",
            "\u001b[?25hDownloading jmespath-1.0.1-py3-none-any.whl (20 kB)\n",
            "Installing collected packages: rsa, jmespath, docutils, colorama, botocore, s3transfer, awscli\n",
            "  Attempting uninstall: rsa\n",
            "    Found existing installation: rsa 4.9\n",
            "    Uninstalling rsa-4.9:\n",
            "      Successfully uninstalled rsa-4.9\n",
            "  Attempting uninstall: docutils\n",
            "    Found existing installation: docutils 0.18.1\n",
            "    Uninstalling docutils-0.18.1:\n",
            "      Successfully uninstalled docutils-0.18.1\n",
            "Successfully installed awscli-1.34.19 botocore-1.35.19 colorama-0.4.6 docutils-0.16 jmespath-1.0.1 rsa-4.7.2 s3transfer-0.10.2\n"
          ]
        }
      ]
    },
    {
      "cell_type": "code",
      "source": [
        "# Run this cell\n",
        "import findspark\n",
        "findspark.init()\n",
        "from pyspark.sql import SparkSession\n",
        "\n",
        "spark = SparkSession.builder \\\n",
        "        .master('local[*]') \\\n",
        "        .appName('Basics') \\\n",
        "        .getOrCreate()\n",
        "\n",
        "print(spark.version)"
      ],
      "metadata": {
        "id": "cTrXELOw31E2",
        "colab": {
          "base_uri": "https://localhost:8080/"
        },
        "outputId": "0a387c56-7e25-4a63-c3db-10a218404f21"
      },
      "execution_count": null,
      "outputs": [
        {
          "output_type": "stream",
          "name": "stdout",
          "text": [
            "3.5.2\n"
          ]
        }
      ]
    },
    {
      "cell_type": "markdown",
      "source": [
        "### Approach 1"
      ],
      "metadata": {
        "id": "EcWU7FVL3y90"
      }
    },
    {
      "cell_type": "code",
      "source": [
        "# Run this cell\n",
        "!aws s3 ls --no-sign-request s3://openaq-data-archive/records/csv.gz/locationid=2178/year=2022/month=05/location-2178-20220503.csv.gz"
      ],
      "metadata": {
        "id": "4NCnhr42hK0P",
        "colab": {
          "base_uri": "https://localhost:8080/"
        },
        "outputId": "852caab6-4e5f-455b-b29c-470904f2c4b3"
      },
      "execution_count": null,
      "outputs": [
        {
          "output_type": "stream",
          "name": "stdout",
          "text": [
            "2023-11-08 21:37:25        797 location-2178-20220503.csv.gz\n"
          ]
        }
      ]
    },
    {
      "cell_type": "code",
      "source": [
        "# Run this cell\n",
        "!mkdir raw_data1\n",
        "!ls"
      ],
      "metadata": {
        "id": "1x20CuQ-4FXs",
        "colab": {
          "base_uri": "https://localhost:8080/"
        },
        "outputId": "13a5103a-2926-4e70-9425-f34033b615ab"
      },
      "execution_count": null,
      "outputs": [
        {
          "output_type": "stream",
          "name": "stdout",
          "text": [
            "raw_data1  sample_data\n"
          ]
        }
      ]
    },
    {
      "cell_type": "code",
      "source": [
        "# Run this cell\n",
        "!wget --directory-prefix=raw_data1 http://openaq-data-archive.s3.amazonaws.com/records/csv.gz/locationid=2178/year=2022/month=05/location-2178-20220503.csv.gz"
      ],
      "metadata": {
        "id": "tb66kNoDi9z7",
        "colab": {
          "base_uri": "https://localhost:8080/"
        },
        "outputId": "3633a8a0-e768-4946-b575-4b7c51a04f27"
      },
      "execution_count": null,
      "outputs": [
        {
          "output_type": "stream",
          "name": "stdout",
          "text": [
            "--2024-09-14 08:06:45--  http://openaq-data-archive.s3.amazonaws.com/records/csv.gz/locationid=2178/year=2022/month=05/location-2178-20220503.csv.gz\n",
            "Resolving openaq-data-archive.s3.amazonaws.com (openaq-data-archive.s3.amazonaws.com)... 52.216.94.19, 3.5.6.131, 52.217.165.65, ...\n",
            "Connecting to openaq-data-archive.s3.amazonaws.com (openaq-data-archive.s3.amazonaws.com)|52.216.94.19|:80... connected.\n",
            "HTTP request sent, awaiting response... 200 OK\n",
            "Length: 797 [binary/octet-stream]\n",
            "Saving to: ‘raw_data1/location-2178-20220503.csv.gz’\n",
            "\n",
            "\r          location-   0%[                    ]       0  --.-KB/s               \rlocation-2178-20220 100%[===================>]     797  --.-KB/s    in 0s      \n",
            "\n",
            "2024-09-14 08:06:46 (56.0 MB/s) - ‘raw_data1/location-2178-20220503.csv.gz’ saved [797/797]\n",
            "\n"
          ]
        }
      ]
    },
    {
      "cell_type": "markdown",
      "source": [
        "### Approach 2"
      ],
      "metadata": {
        "id": "_Jzs30q935WG"
      }
    },
    {
      "cell_type": "code",
      "source": [
        "# Run this cell\n",
        "!aws s3 ls --no-sign-request s3://openaq-data-archive/records/csv.gz/locationid=2178/year=2022/month=05/"
      ],
      "metadata": {
        "id": "eI6zPA13kIac",
        "colab": {
          "base_uri": "https://localhost:8080/"
        },
        "outputId": "10136beb-c199-4875-ac8c-9be73513fc66"
      },
      "execution_count": null,
      "outputs": [
        {
          "output_type": "stream",
          "name": "stdout",
          "text": [
            "2023-11-08 21:37:25        797 location-2178-20220503.csv.gz\n",
            "2023-11-08 21:37:25        773 location-2178-20220505.csv.gz\n",
            "2023-11-08 21:37:31        787 location-2178-20220507.csv.gz\n",
            "2023-11-08 21:37:17        720 location-2178-20220509.csv.gz\n",
            "2023-11-08 21:37:17        592 location-2178-20220510.csv.gz\n",
            "2023-11-08 21:37:24        596 location-2178-20220511.csv.gz\n",
            "2023-11-08 21:35:59        730 location-2178-20220512.csv.gz\n",
            "2023-11-08 21:37:23        795 location-2178-20220513.csv.gz\n",
            "2023-11-08 21:37:34        791 location-2178-20220514.csv.gz\n",
            "2023-11-08 21:37:19        741 location-2178-20220516.csv.gz\n",
            "2023-11-08 20:49:49        689 location-2178-20220517.csv.gz\n",
            "2023-11-08 21:37:37        820 location-2178-20220518.csv.gz\n",
            "2023-11-08 21:37:54        823 location-2178-20220519.csv.gz\n",
            "2023-11-08 21:37:19        600 location-2178-20220521.csv.gz\n",
            "2023-11-08 21:37:20        677 location-2178-20220524.csv.gz\n",
            "2023-11-08 21:37:33        780 location-2178-20220525.csv.gz\n",
            "2023-11-08 21:37:24        773 location-2178-20220526.csv.gz\n",
            "2023-11-08 21:37:28        832 location-2178-20220527.csv.gz\n",
            "2023-11-08 21:37:18        800 location-2178-20220528.csv.gz\n",
            "2023-11-08 21:37:27        770 location-2178-20220530.csv.gz\n",
            "2023-11-08 21:37:18        801 location-2178-20220531.csv.gz\n"
          ]
        }
      ]
    },
    {
      "cell_type": "code",
      "source": [
        "# Run this cell\n",
        "!mkdir raw_data2\n",
        "!ls"
      ],
      "metadata": {
        "id": "ARoqVGXK3Fcj",
        "colab": {
          "base_uri": "https://localhost:8080/"
        },
        "outputId": "5cb06e01-7ff4-4ad8-80b8-7e57a98d9b4b"
      },
      "execution_count": null,
      "outputs": [
        {
          "output_type": "stream",
          "name": "stdout",
          "text": [
            "raw_data1  raw_data2  sample_data\n"
          ]
        }
      ]
    },
    {
      "cell_type": "code",
      "source": [
        "# Run this cell\n",
        "!aws s3 cp --recursive --no-sign-request s3://openaq-data-archive/records/csv.gz/locationid=2178/year=2022/month=05/ raw_data2"
      ],
      "metadata": {
        "id": "v_dKGhnn3O_h",
        "colab": {
          "base_uri": "https://localhost:8080/"
        },
        "outputId": "3f2681ad-b08a-4d27-db4f-456dadf795e2"
      },
      "execution_count": null,
      "outputs": [
        {
          "output_type": "stream",
          "name": "stdout",
          "text": [
            "Completed 592 Bytes/15.3 KiB (935 Bytes/s) with 21 file(s) remaining\rdownload: s3://openaq-data-archive/records/csv.gz/locationid=2178/year=2022/month=05/location-2178-20220510.csv.gz to raw_data2/location-2178-20220510.csv.gz\n",
            "Completed 592 Bytes/15.3 KiB (935 Bytes/s) with 20 file(s) remaining\rCompleted 1.3 KiB/15.3 KiB (1.8 KiB/s) with 20 file(s) remaining    \rdownload: s3://openaq-data-archive/records/csv.gz/locationid=2178/year=2022/month=05/location-2178-20220517.csv.gz to raw_data2/location-2178-20220517.csv.gz\n",
            "Completed 1.3 KiB/15.3 KiB (1.8 KiB/s) with 19 file(s) remaining\rCompleted 2.1 KiB/15.3 KiB (2.9 KiB/s) with 19 file(s) remaining\rdownload: s3://openaq-data-archive/records/csv.gz/locationid=2178/year=2022/month=05/location-2178-20220518.csv.gz to raw_data2/location-2178-20220518.csv.gz\n",
            "Completed 2.1 KiB/15.3 KiB (2.9 KiB/s) with 18 file(s) remaining\rCompleted 2.8 KiB/15.3 KiB (4.0 KiB/s) with 18 file(s) remaining\rdownload: s3://openaq-data-archive/records/csv.gz/locationid=2178/year=2022/month=05/location-2178-20220514.csv.gz to raw_data2/location-2178-20220514.csv.gz\n",
            "Completed 2.8 KiB/15.3 KiB (4.0 KiB/s) with 17 file(s) remaining\rCompleted 3.4 KiB/15.3 KiB (4.8 KiB/s) with 17 file(s) remaining\rdownload: s3://openaq-data-archive/records/csv.gz/locationid=2178/year=2022/month=05/location-2178-20220511.csv.gz to raw_data2/location-2178-20220511.csv.gz\n",
            "Completed 3.4 KiB/15.3 KiB (4.8 KiB/s) with 16 file(s) remaining\rCompleted 4.2 KiB/15.3 KiB (5.8 KiB/s) with 16 file(s) remaining\rdownload: s3://openaq-data-archive/records/csv.gz/locationid=2178/year=2022/month=05/location-2178-20220505.csv.gz to raw_data2/location-2178-20220505.csv.gz\n",
            "Completed 4.2 KiB/15.3 KiB (5.8 KiB/s) with 15 file(s) remaining\rCompleted 4.9 KiB/15.3 KiB (6.8 KiB/s) with 15 file(s) remaining\rCompleted 5.6 KiB/15.3 KiB (7.8 KiB/s) with 15 file(s) remaining\rdownload: s3://openaq-data-archive/records/csv.gz/locationid=2178/year=2022/month=05/location-2178-20220507.csv.gz to raw_data2/location-2178-20220507.csv.gz\n",
            "Completed 5.6 KiB/15.3 KiB (7.8 KiB/s) with 14 file(s) remaining\rCompleted 6.4 KiB/15.3 KiB (8.8 KiB/s) with 14 file(s) remaining\rdownload: s3://openaq-data-archive/records/csv.gz/locationid=2178/year=2022/month=05/location-2178-20220509.csv.gz to raw_data2/location-2178-20220509.csv.gz\n",
            "Completed 6.4 KiB/15.3 KiB (8.8 KiB/s) with 13 file(s) remaining\rCompleted 7.1 KiB/15.3 KiB (9.7 KiB/s) with 13 file(s) remaining\rdownload: s3://openaq-data-archive/records/csv.gz/locationid=2178/year=2022/month=05/location-2178-20220503.csv.gz to raw_data2/location-2178-20220503.csv.gz\n",
            "Completed 7.1 KiB/15.3 KiB (9.7 KiB/s) with 12 file(s) remaining\rdownload: s3://openaq-data-archive/records/csv.gz/locationid=2178/year=2022/month=05/location-2178-20220516.csv.gz to raw_data2/location-2178-20220516.csv.gz\n",
            "Completed 7.1 KiB/15.3 KiB (9.7 KiB/s) with 11 file(s) remaining\rCompleted 7.8 KiB/15.3 KiB (10.4 KiB/s) with 11 file(s) remaining\rdownload: s3://openaq-data-archive/records/csv.gz/locationid=2178/year=2022/month=05/location-2178-20220512.csv.gz to raw_data2/location-2178-20220512.csv.gz\n",
            "Completed 7.8 KiB/15.3 KiB (10.4 KiB/s) with 10 file(s) remaining\rCompleted 8.4 KiB/15.3 KiB (11.0 KiB/s) with 10 file(s) remaining\rdownload: s3://openaq-data-archive/records/csv.gz/locationid=2178/year=2022/month=05/location-2178-20220521.csv.gz to raw_data2/location-2178-20220521.csv.gz\n",
            "Completed 8.4 KiB/15.3 KiB (11.0 KiB/s) with 9 file(s) remaining\rCompleted 9.1 KiB/15.3 KiB (11.9 KiB/s) with 9 file(s) remaining\rCompleted 9.9 KiB/15.3 KiB (12.9 KiB/s) with 9 file(s) remaining\rdownload: s3://openaq-data-archive/records/csv.gz/locationid=2178/year=2022/month=05/location-2178-20220524.csv.gz to raw_data2/location-2178-20220524.csv.gz\n",
            "Completed 9.9 KiB/15.3 KiB (12.9 KiB/s) with 8 file(s) remaining\rdownload: s3://openaq-data-archive/records/csv.gz/locationid=2178/year=2022/month=05/location-2178-20220513.csv.gz to raw_data2/location-2178-20220513.csv.gz\n",
            "Completed 9.9 KiB/15.3 KiB (12.9 KiB/s) with 7 file(s) remaining\rCompleted 10.6 KiB/15.3 KiB (13.6 KiB/s) with 7 file(s) remaining\rdownload: s3://openaq-data-archive/records/csv.gz/locationid=2178/year=2022/month=05/location-2178-20220525.csv.gz to raw_data2/location-2178-20220525.csv.gz\n",
            "Completed 10.6 KiB/15.3 KiB (13.6 KiB/s) with 6 file(s) remaining\rCompleted 11.4 KiB/15.3 KiB (14.6 KiB/s) with 6 file(s) remaining\rdownload: s3://openaq-data-archive/records/csv.gz/locationid=2178/year=2022/month=05/location-2178-20220519.csv.gz to raw_data2/location-2178-20220519.csv.gz\n",
            "Completed 11.4 KiB/15.3 KiB (14.6 KiB/s) with 5 file(s) remaining\rCompleted 12.2 KiB/15.3 KiB (15.5 KiB/s) with 5 file(s) remaining\rdownload: s3://openaq-data-archive/records/csv.gz/locationid=2178/year=2022/month=05/location-2178-20220530.csv.gz to raw_data2/location-2178-20220530.csv.gz\n",
            "Completed 12.2 KiB/15.3 KiB (15.5 KiB/s) with 4 file(s) remaining\rCompleted 12.9 KiB/15.3 KiB (16.4 KiB/s) with 4 file(s) remaining\rdownload: s3://openaq-data-archive/records/csv.gz/locationid=2178/year=2022/month=05/location-2178-20220526.csv.gz to raw_data2/location-2178-20220526.csv.gz\n",
            "download: s3://openaq-data-archive/records/csv.gz/locationid=2178/year=2022/month=05/location-2178-20220527.csv.gz to raw_data2/location-2178-20220527.csv.gz\n",
            "download: s3://openaq-data-archive/records/csv.gz/locationid=2178/year=2022/month=05/location-2178-20220531.csv.gz to raw_data2/location-2178-20220531.csv.gz\n",
            "download: s3://openaq-data-archive/records/csv.gz/locationid=2178/year=2022/month=05/location-2178-20220528.csv.gz to raw_data2/location-2178-20220528.csv.gz\n"
          ]
        }
      ]
    },
    {
      "cell_type": "code",
      "source": [
        "# Run this cell\n",
        "df_data1 = spark.read.csv('/content/raw_data1/*.csv.gz', inferSchema=True, header=True)\n",
        "df_data1.show(5)"
      ],
      "metadata": {
        "id": "Y4V8pQvZ3X_-",
        "colab": {
          "base_uri": "https://localhost:8080/"
        },
        "outputId": "57f3fac5-6f25-41ac-b7fc-a5dbb0f2cf87"
      },
      "execution_count": null,
      "outputs": [
        {
          "output_type": "stream",
          "name": "stdout",
          "text": [
            "+-----------+----------+--------------+-------------------+-------+-----------+---------+-----+-----+\n",
            "|location_id|sensors_id|      location|           datetime|    lat|        lon|parameter|units|value|\n",
            "+-----------+----------+--------------+-------------------+-------+-----------+---------+-----+-----+\n",
            "|       2178|      3919|Del Norte-2178|2022-05-03 07:00:00|35.1353|-106.584702|     pm10|µg/m³| 31.0|\n",
            "|       2178|      3919|Del Norte-2178|2022-05-03 08:00:00|35.1353|-106.584702|     pm10|µg/m³| 22.0|\n",
            "|       2178|      3919|Del Norte-2178|2022-05-03 09:00:00|35.1353|-106.584702|     pm10|µg/m³| 29.0|\n",
            "|       2178|      3919|Del Norte-2178|2022-05-03 10:00:00|35.1353|-106.584702|     pm10|µg/m³| 30.0|\n",
            "|       2178|      3919|Del Norte-2178|2022-05-03 11:00:00|35.1353|-106.584702|     pm10|µg/m³| 31.0|\n",
            "+-----------+----------+--------------+-------------------+-------+-----------+---------+-----+-----+\n",
            "only showing top 5 rows\n",
            "\n"
          ]
        }
      ]
    },
    {
      "cell_type": "code",
      "source": [
        "# Run this cell\n",
        "df_data2 = spark.read.csv('/content/raw_data2/*.csv.gz', inferSchema=True, header=True)\n",
        "df_data2.show(5)"
      ],
      "metadata": {
        "id": "ai87iqrx4-4v",
        "colab": {
          "base_uri": "https://localhost:8080/"
        },
        "outputId": "20d28921-1ff8-4529-a753-654e5ca90921"
      },
      "execution_count": null,
      "outputs": [
        {
          "output_type": "stream",
          "name": "stdout",
          "text": [
            "+-----------+----------+--------------+-------------------+-------+-----------+---------+-----+-----+\n",
            "|location_id|sensors_id|      location|           datetime|    lat|        lon|parameter|units|value|\n",
            "+-----------+----------+--------------+-------------------+-------+-----------+---------+-----+-----+\n",
            "|       2178|      3919|Del Norte-2178|2022-05-27 07:00:00|35.1353|-106.584702|     pm10|µg/m³| 19.0|\n",
            "|       2178|      3919|Del Norte-2178|2022-05-27 08:00:00|35.1353|-106.584702|     pm10|µg/m³| 21.0|\n",
            "|       2178|      3919|Del Norte-2178|2022-05-27 09:00:00|35.1353|-106.584702|     pm10|µg/m³| 21.0|\n",
            "|       2178|      3919|Del Norte-2178|2022-05-27 10:00:00|35.1353|-106.584702|     pm10|µg/m³| 41.0|\n",
            "|       2178|      3919|Del Norte-2178|2022-05-27 11:00:00|35.1353|-106.584702|     pm10|µg/m³| 55.0|\n",
            "+-----------+----------+--------------+-------------------+-------+-----------+---------+-----+-----+\n",
            "only showing top 5 rows\n",
            "\n"
          ]
        }
      ]
    },
    {
      "cell_type": "markdown",
      "source": [
        "### Querying 1"
      ],
      "metadata": {
        "id": "DID5SQzaH4BQ"
      }
    },
    {
      "cell_type": "code",
      "source": [
        "# Run this cell\n",
        "df_data1.printSchema()"
      ],
      "metadata": {
        "id": "ESamlq0KIqyI",
        "colab": {
          "base_uri": "https://localhost:8080/"
        },
        "outputId": "a0951a6f-ef8b-43e3-a9c1-ae4e00d7a661"
      },
      "execution_count": null,
      "outputs": [
        {
          "output_type": "stream",
          "name": "stdout",
          "text": [
            "root\n",
            " |-- location_id: integer (nullable = true)\n",
            " |-- sensors_id: integer (nullable = true)\n",
            " |-- location: string (nullable = true)\n",
            " |-- datetime: timestamp (nullable = true)\n",
            " |-- lat: double (nullable = true)\n",
            " |-- lon: double (nullable = true)\n",
            " |-- parameter: string (nullable = true)\n",
            " |-- units: string (nullable = true)\n",
            " |-- value: double (nullable = true)\n",
            "\n"
          ]
        }
      ]
    },
    {
      "cell_type": "code",
      "source": [
        "# Run this cell\n",
        "df_data1.createOrReplaceTempView('df_data1_view')"
      ],
      "metadata": {
        "id": "KJT-mTrLH73W"
      },
      "execution_count": null,
      "outputs": []
    },
    {
      "cell_type": "code",
      "source": [
        "# Run this cell\n",
        "spark.sql(\"\"\"\n",
        "SELECT\n",
        "  *\n",
        "FROM\n",
        "  df_data1_view\n",
        "LIMIT\n",
        "  5\n",
        "\"\"\").show()"
      ],
      "metadata": {
        "id": "B67o4hQ-IKgy",
        "colab": {
          "base_uri": "https://localhost:8080/"
        },
        "outputId": "ec52501d-8f42-461b-a849-e5973b851b7c"
      },
      "execution_count": null,
      "outputs": [
        {
          "output_type": "stream",
          "name": "stdout",
          "text": [
            "+-----------+----------+--------------+-------------------+-------+-----------+---------+-----+-----+\n",
            "|location_id|sensors_id|      location|           datetime|    lat|        lon|parameter|units|value|\n",
            "+-----------+----------+--------------+-------------------+-------+-----------+---------+-----+-----+\n",
            "|       2178|      3919|Del Norte-2178|2022-05-03 07:00:00|35.1353|-106.584702|     pm10|µg/m³| 31.0|\n",
            "|       2178|      3919|Del Norte-2178|2022-05-03 08:00:00|35.1353|-106.584702|     pm10|µg/m³| 22.0|\n",
            "|       2178|      3919|Del Norte-2178|2022-05-03 09:00:00|35.1353|-106.584702|     pm10|µg/m³| 29.0|\n",
            "|       2178|      3919|Del Norte-2178|2022-05-03 10:00:00|35.1353|-106.584702|     pm10|µg/m³| 30.0|\n",
            "|       2178|      3919|Del Norte-2178|2022-05-03 11:00:00|35.1353|-106.584702|     pm10|µg/m³| 31.0|\n",
            "+-----------+----------+--------------+-------------------+-------+-----------+---------+-----+-----+\n",
            "\n"
          ]
        }
      ]
    },
    {
      "cell_type": "markdown",
      "source": [
        "### Querying 2"
      ],
      "metadata": {
        "id": "wINGLnVYIfE8"
      }
    },
    {
      "cell_type": "code",
      "source": [
        "# Run this cell\n",
        "df_data2.printSchema()"
      ],
      "metadata": {
        "id": "XJBZ7O6nIvqM",
        "colab": {
          "base_uri": "https://localhost:8080/"
        },
        "outputId": "b8b5cb02-1b31-4c9d-d51c-950f052bfb6e"
      },
      "execution_count": null,
      "outputs": [
        {
          "output_type": "stream",
          "name": "stdout",
          "text": [
            "root\n",
            " |-- location_id: integer (nullable = true)\n",
            " |-- sensors_id: integer (nullable = true)\n",
            " |-- location: string (nullable = true)\n",
            " |-- datetime: timestamp (nullable = true)\n",
            " |-- lat: double (nullable = true)\n",
            " |-- lon: double (nullable = true)\n",
            " |-- parameter: string (nullable = true)\n",
            " |-- units: string (nullable = true)\n",
            " |-- value: double (nullable = true)\n",
            "\n"
          ]
        }
      ]
    },
    {
      "cell_type": "code",
      "source": [
        "# Run this cell\n",
        "df_data2.createOrReplaceTempView('df_data2_view')"
      ],
      "metadata": {
        "id": "N_Ut_A7mIEKK"
      },
      "execution_count": null,
      "outputs": []
    },
    {
      "cell_type": "code",
      "source": [
        "# Run this cell\n",
        "spark.sql(\"\"\"\n",
        "SELECT\n",
        "  *\n",
        "FROM\n",
        "  df_data2_view\n",
        "LIMIT\n",
        "  5\n",
        "\"\"\").show()"
      ],
      "metadata": {
        "id": "oKPjUOlUIVbL",
        "colab": {
          "base_uri": "https://localhost:8080/"
        },
        "outputId": "6ac518cf-ffb5-4d62-bf45-17047c1b7f71"
      },
      "execution_count": null,
      "outputs": [
        {
          "output_type": "stream",
          "name": "stdout",
          "text": [
            "+-----------+----------+--------------+-------------------+-------+-----------+---------+-----+-----+\n",
            "|location_id|sensors_id|      location|           datetime|    lat|        lon|parameter|units|value|\n",
            "+-----------+----------+--------------+-------------------+-------+-----------+---------+-----+-----+\n",
            "|       2178|      3919|Del Norte-2178|2022-05-27 07:00:00|35.1353|-106.584702|     pm10|µg/m³| 19.0|\n",
            "|       2178|      3919|Del Norte-2178|2022-05-27 08:00:00|35.1353|-106.584702|     pm10|µg/m³| 21.0|\n",
            "|       2178|      3919|Del Norte-2178|2022-05-27 09:00:00|35.1353|-106.584702|     pm10|µg/m³| 21.0|\n",
            "|       2178|      3919|Del Norte-2178|2022-05-27 10:00:00|35.1353|-106.584702|     pm10|µg/m³| 41.0|\n",
            "|       2178|      3919|Del Norte-2178|2022-05-27 11:00:00|35.1353|-106.584702|     pm10|µg/m³| 55.0|\n",
            "+-----------+----------+--------------+-------------------+-------+-----------+---------+-----+-----+\n",
            "\n"
          ]
        }
      ]
    },
    {
      "cell_type": "markdown",
      "source": [
        "## Observation and Analysis\n",
        "\n",
        "Based on running through the procedures above, it showcases using the --no-sign-request command and that the process shows how to get data from an Amazon S3 bucket without requiring security credentials and how to use PySpark to read the downloaded CSV files. Furthermore, there are two approaches utilized in the process. The first approach was downloading just one file. I have observed that installed PySpark and the AWS CLI was executed as this is to communicate with Spark and AWS, it installed the required libraries, including pyspark, findspark, and awscli.\n",
        "\n",
        "While initiating the PySpark it was started by a spark session. Then, listing the files in the S3 bucket using the --no-sign-request option. I think that this procedure shows that the specified security credentials are not necessary to access files. Alongside the first approach, using the wget, it downloads a single file from the S3 bucket and that it uses the PySpark to examine the CSV file and display the top five rows.\n",
        "\n",
        "Meanwhile, the second approach is different to the former as it involves downloading numerous files. With this in mind, I have observed that to view a list of all the files in a particular S3 bucket directory, the process utilized the AWS CLI. Then, using the aws s3 cp --recursive comand to download every file on the list from the bucket. Finally, using the PySpark, it examined and displayed the top five rows from the downloaded files like the approach 1.\n",
        "\n",
        "Overall, observing and analyzing the procedure it shows how straightforward it is to use PySpark with the AWS CLI to access and handle publically available data. Although the process was made easier by the dataset's open nature, however, I believe that security measures should always be taken into account when working with private or sensitive data sources."
      ],
      "metadata": {
        "id": "cycQm04hDRVz"
      }
    },
    {
      "cell_type": "markdown",
      "source": [
        "## Conclusion\n",
        "\n",
        "Therefore, I conclude that, the goal of figuring out a procedure for accessing a data source and the hypothesis that obtaining a data source might not need security credentials or permissions. I believe that PySpark and the Amazon CLI were used to successfully show the process of reading a data source. Both approaches such as downloading a single file and copying many files from an S3 bucket recursively performed as predicted, enabling me to read and modify the data with PySpark.\n",
        "\n",
        "Consequently, it was hypothesized that security credentials and permissions might not be needed in order to access the data. I think that this applied to the particular \"openaq\" dataset, which was made available to the general public with the --no-sign-request flag. This suggests that depending on how they are set up like public data sources on AWS S3, for example, it may not require authentication to all data sources.\n",
        "\n",
        "Above all, the procedure satisfied the goal of figuring out how to read a data source and a partially validated hypothesis because credentials were not needed to access the particular data source employed in this procedure. It might not, however, hold true for all other data sources."
      ],
      "metadata": {
        "id": "0ytLo0KMEv5-"
      }
    },
    {
      "cell_type": "code",
      "source": [],
      "metadata": {
        "id": "1vR8naB-Sqwe"
      },
      "execution_count": null,
      "outputs": []
    }
  ]
}